{
 "cells": [
  {
   "cell_type": "code",
   "execution_count": 1,
   "metadata": {},
   "outputs": [],
   "source": [
    "import json\n",
    "import json\n",
    "import numpy as np\n",
    "import json \n",
    "from os.path import exists\n",
    "import os\n",
    "from matplotlib import pyplot as plt\n",
    "import cv2\n",
    "from io import StringIO\n",
    "import pandas as pd\n",
    "import pdfplumber\n",
    "import numpy as np"
   ]
  },
  {
   "cell_type": "code",
   "execution_count": 2,
   "metadata": {},
   "outputs": [],
   "source": [
    "def file_exists(path_to_file):\n",
    "    file_exists = exists(path_to_file)\n",
    "    return file_exists\n",
    "\n",
    "def create_folder(path):\n",
    "    exists = file_exists(path)\n",
    "    if not exists:\n",
    "        os.makedirs(path)\n",
    "    return path\n",
    "\n",
    "def save_obj(path,obj):\n",
    "        with open(path, 'w') as f:\n",
    "                f.write(obj)\n",
    "        f.close()\n",
    "def open_json(path):\n",
    "    with open(path, 'r') as openfile:\n",
    "    \n",
    "    # Reading from json file\n",
    "        json_object = json.load(openfile)\n",
    "        return json_object\n",
    "    \n",
    "def wirte_json_file(jsd,path):\n",
    "    class NpEncoder(json.JSONEncoder):\n",
    "        def default(self, obj):\n",
    "            if isinstance(obj, np.integer):\n",
    "                return int(obj)\n",
    "            if isinstance(obj, np.floating):\n",
    "                return float(obj)\n",
    "            if isinstance(obj, np.ndarray):\n",
    "                return obj.tolist()\n",
    "            return super(NpEncoder, self).default(obj)\n",
    "    js = json.dumps(jsd, cls=NpEncoder,indent=4, ensure_ascii=False).encode('utf8')\n",
    "    with open(path, \"w\") as outfile:\n",
    "        outfile.write(js.decode())"
   ]
  },
  {
   "cell_type": "code",
   "execution_count": 3,
   "metadata": {},
   "outputs": [
    {
     "data": {
      "text/plain": [
       "994"
      ]
     },
     "execution_count": 3,
     "metadata": {},
     "output_type": "execute_result"
    }
   ],
   "source": [
    "path_dt_to_ha ='heuristica_anotacao.json'\n",
    "dt_heuri = open_json(path_dt_to_ha)\n",
    "len(dt_heuri)"
   ]
  },
  {
   "cell_type": "code",
   "execution_count": 4,
   "metadata": {},
   "outputs": [
    {
     "data": {
      "image/png": "[encoded data removed]",
      "text/plain": [
       "<Figure size 1800x100 with 9 Axes>"
      ]
     },
     "metadata": {},
     "output_type": "display_data"
    },
    {
     "name": "stdout",
     "output_type": "stream",
     "text": [
      "[0 1 2 3 4 5 6 7 8]\n",
      "{'background': 0, 'header': 1, 'footer': 2, 'title': 3, 'other': 4, 'ementa': 5, 'acordao': 6, 'partes': 7, 'heading': 8}\n"
     ]
    }
   ],
   "source": [
    "#Colors:\n",
    "WITHE = (249,249,249)\n",
    "RED = (255, 0, 0)\n",
    "GREEN = (0, 255, 0)\n",
    "BLUE = (0, 0, 255)\n",
    "PURPLE = (25,12,80)\n",
    "PINK = (255,6,231)\n",
    "BROWN = (153,102,51)\n",
    "YELLOW = (249,241,12)\n",
    "GREY = (193,203,216)\n",
    "#labels\n",
    "BACKGROUND = 'background'\n",
    "HEADER = 'header'\n",
    "FOOTER = 'footer'\n",
    "TITLE = \"title\"\n",
    "OTHER = \"other\"\n",
    "EMENTA = \"ementa\"\n",
    "ACORDAO = \"acordao\"\n",
    "PARTES = \"partes\"\n",
    "HEADING = \"heading\"\n",
    "labels_color = [WITHE,RED,GREEN,BLUE,PINK,PURPLE,BROWN,YELLOW,GREY]\n",
    "labels_str = [BACKGROUND,HEADER,FOOTER,TITLE,OTHER,EMENTA,ACORDAO,PARTES,HEADING]\n",
    "n_labels = len(labels_str)\n",
    "fig = plt.figure( figsize=(n_labels*2,1))\n",
    "c = 1;\n",
    "for lc,l in zip(labels_color,labels_str):\n",
    "  plt.subplot(1, n_labels, c)\n",
    "  plt.axis('off')\n",
    "  label = np.zeros((50,50,3), np.uint8)\n",
    "  label[:,0:] = lc\n",
    "  plt.title( l )\n",
    "  plt.imshow(label)\n",
    "  c=c+1\n",
    "plt.show()\n",
    "\n",
    "labels = np.arange(len(labels_color))\n",
    "print(labels)\n",
    "color_label_dic = {}\n",
    "for l,c in enumerate(labels_str):\n",
    "  color_label_dic[labels_str[l]]= l\n",
    "print(color_label_dic)"
   ]
  },
  {
   "cell_type": "code",
   "execution_count": 5,
   "metadata": {},
   "outputs": [
    {
     "name": "stderr",
     "output_type": "stream",
     "text": [
      "   **** Error: /BBox has zero width or height, which is not allowed.\n",
      "               Output may be incorrect.\n",
      "   **** Error: /BBox has zero width or height, which is not allowed.\n",
      "               Output may be incorrect.\n",
      "   **** Error: /BBox has zero width or height, which is not allowed.\n",
      "               Output may be incorrect.\n",
      "   **** Error: /BBox has zero width or height, which is not allowed.\n",
      "               Output may be incorrect.\n",
      "   **** Error: /BBox has zero width or height, which is not allowed.\n",
      "               Output may be incorrect.\n",
      "   **** Error: /BBox has zero width or height, which is not allowed.\n",
      "               Output may be incorrect.\n",
      "   **** Error: Executing Do inside a text block, attempting to recover\n",
      "               Output may be incorrect.\n",
      "   **** Error: Executing Do inside a text block, attempting to recover\n",
      "               Output may be incorrect.\n",
      "   **** Error: Executing Do inside a text block, attempting to recover\n",
      "               Output may be incorrect.\n",
      "   **** Error: Executing Do inside a text block, attempting to recover\n",
      "               Output may be incorrect.\n",
      "   **** Error: Executing Do inside a text block, attempting to recover\n",
      "               Output may be incorrect.\n",
      "   **** Error: Executing Do inside a text block, attempting to recover\n",
      "               Output may be incorrect.\n",
      "   **** Error: Executing Do inside a text block, attempting to recover\n",
      "               Output may be incorrect.\n",
      "   **** Error: Executing Do inside a text block, attempting to recover\n",
      "               Output may be incorrect.\n",
      "   **** Error: Executing Do inside a text block, attempting to recover\n",
      "               Output may be incorrect.\n",
      "   **** Error: Executing Do inside a text block, attempting to recover\n",
      "               Output may be incorrect.\n",
      "   **** Error: /BBox has zero width or height, which is not allowed.\n",
      "               Output may be incorrect.\n",
      "   **** Error: /BBox has zero width or height, which is not allowed.\n",
      "               Output may be incorrect.\n",
      "   **** Error: /BBox has zero width or height, which is not allowed.\n",
      "               Output may be incorrect.\n",
      "   **** Error: /BBox has zero width or height, which is not allowed.\n",
      "               Output may be incorrect.\n",
      "   **** Error: /BBox has zero width or height, which is not allowed.\n",
      "               Output may be incorrect.\n",
      "   **** Error: /BBox has zero width or height, which is not allowed.\n",
      "               Output may be incorrect.\n",
      "   **** Error: /BBox has zero width or height, which is not allowed.\n",
      "               Output may be incorrect.\n",
      "   **** Error: /BBox has zero width or height, which is not allowed.\n",
      "               Output may be incorrect.\n",
      "   **** Error: /BBox has zero width or height, which is not allowed.\n",
      "               Output may be incorrect.\n",
      "   **** Error: /BBox has zero width or height, which is not allowed.\n",
      "               Output may be incorrect.\n",
      "   **** Error: /BBox has zero width or height, which is not allowed.\n",
      "               Output may be incorrect.\n",
      "   **** Error: /BBox has zero width or height, which is not allowed.\n",
      "               Output may be incorrect.\n"
     ]
    }
   ],
   "source": [
    "rows = []\n",
    "for ex in dt_heuri:\n",
    "    id = ex['id']\n",
    "    pdf_idtm_path = f'./ITD_MINI/{id}/{id}.pdf'\n",
    "    img_path = f'./vc_dataset/images/{id}.png'\n",
    "    img_msk_path = f'./vc_dataset/masks/{id}.png'\n",
    "    img_path_to_save = f'../acordao_semantic_segmentation/vc_dataset/images/{id}.png'\n",
    "    img_msk_path_to_save = f'../acordao_semantic_segmentation/vc_dataset/masks/{id}.png'\n",
    "    with pdfplumber.open(pdf_idtm_path) as pdf:\n",
    "        first_page = pdf.pages[0]\n",
    "        im = first_page.to_image()\n",
    "        im.save(img_path_to_save, format=\"PNG\")\n",
    "        pageY,pageX = first_page.height,first_page.width\n",
    "        mask = np.zeros((pageY,pageX),np.uint8)\n",
    "        for seg in ex['documento']:\n",
    "            bbox,label= seg['box'],seg['label']\n",
    "            if ((bbox[2] - bbox[0]) > 1) and ((bbox[3] - bbox[1]) > 1):\n",
    "                cv2.rectangle(mask,(bbox[0], bbox[1]),(bbox[2], bbox[3]),color_label_dic[label],-1)\n",
    "        cv2.imwrite(img_msk_path_to_save, mask)\n",
    "        rows.append([id,pdf_idtm_path,img_path,img_msk_path])\n",
    "    "
   ]
  },
  {
   "cell_type": "code",
   "execution_count": 6,
   "metadata": {},
   "outputs": [],
   "source": [
    "cols = ['id','pdf_path','img_path','mask_path']\n",
    "df = pd.DataFrame(columns=cols,data=rows)\n",
    "df.to_csv('../acordao_semantic_segmentation/image_pre_cv.csv',index=False)"
   ]
  },
  {
   "attachments": {},
   "cell_type": "markdown",
   "metadata": {},
   "source": [
    "ATENÇÃO! É PRECISO COPIAR O ITD_MINI PARA O DIRETÓRIO ../acordao_semantic_segmentation, pois esse projeto rodará em um container, execute a célula abaixo"
   ]
  },
  {
   "cell_type": "code",
   "execution_count": 7,
   "metadata": {},
   "outputs": [],
   "source": [
    "!cp -r ITD_MINI ../acordao_semantic_segmentation"
   ]
  }
 ],
 "metadata": {
  "kernelspec": {
   "display_name": "venv",
   "language": "python",
   "name": "python3"
  },
  "language_info": {
   "codemirror_mode": {
    "name": "ipython",
    "version": 3
   },
   "file_extension": ".py",
   "mimetype": "text/x-python",
   "name": "python",
   "nbconvert_exporter": "python",
   "pygments_lexer": "ipython3",
   "version": "3.8.10"
  },
  "orig_nbformat": 4,
  "vscode": {
   "interpreter": {
    "hash": "b32ddc4246e1f5eb2658859b04f31200bfc8399c2090cfc052083303736e7c59"
   }
  }
 },
 "nbformat": 4,
 "nbformat_minor": 2
}
