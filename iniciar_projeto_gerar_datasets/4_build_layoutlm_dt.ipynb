{
 "cells": [
  {
   "cell_type": "code",
   "execution_count": 1,
   "metadata": {},
   "outputs": [],
   "source": [
    "import json\n",
    "import json\n",
    "import numpy as np\n",
    "import json \n",
    "from os.path import exists\n",
    "import os\n",
    "from PIL import Image,ImageDraw\n",
    "from matplotlib import pyplot as plt\n",
    "from io import StringIO\n",
    "import pandas as pd\n",
    "import pdfplumber\n",
    "import numpy as np"
   ]
  },
  {
   "cell_type": "code",
   "execution_count": 2,
   "metadata": {},
   "outputs": [],
   "source": [
    "def file_exists(path_to_file):\n",
    "    file_exists = exists(path_to_file)\n",
    "    return file_exists\n",
    "\n",
    "def create_folder(path):\n",
    "    exists = file_exists(path)\n",
    "    if not exists:\n",
    "        os.makedirs(path)\n",
    "    return path\n",
    "\n",
    "def save_obj(path,obj):\n",
    "        with open(path, 'w') as f:\n",
    "                f.write(obj)\n",
    "        f.close()\n",
    "def open_json(path):\n",
    "    with open(path, 'r') as openfile:\n",
    "    \n",
    "    # Reading from json file\n",
    "        json_object = json.load(openfile)\n",
    "        return json_object\n",
    "    \n",
    "def wirte_json_file(jsd,path):\n",
    "    class NpEncoder(json.JSONEncoder):\n",
    "        def default(self, obj):\n",
    "            if isinstance(obj, np.integer):\n",
    "                return int(obj)\n",
    "            if isinstance(obj, np.floating):\n",
    "                return float(obj)\n",
    "            if isinstance(obj, np.ndarray):\n",
    "                return obj.tolist()\n",
    "            return super(NpEncoder, self).default(obj)\n",
    "    js = json.dumps(jsd, cls=NpEncoder,indent=4, ensure_ascii=False).encode('utf8')\n",
    "    with open(path, \"w\") as outfile:\n",
    "        outfile.write(js.decode())"
   ]
  },
  {
   "cell_type": "code",
   "execution_count": 3,
   "metadata": {},
   "outputs": [
    {
     "name": "stdout",
     "output_type": "stream",
     "text": [
      "994\n"
     ]
    }
   ],
   "source": [
    "dt_path = 'heuristica_anotacao.json'\n",
    "dt = open_json(dt_path)\n",
    "print(len(dt))"
   ]
  },
  {
   "cell_type": "code",
   "execution_count": 4,
   "metadata": {},
   "outputs": [],
   "source": [
    "def save_img(pdf_path,img_path):\n",
    "    with pdfplumber.open(pdf_path) as pdf:\n",
    "        first_page = pdf.pages[0]\n",
    "        im = first_page.to_image()\n",
    "        im.save(img_path, format=\"PNG\")"
   ]
  },
  {
   "cell_type": "code",
   "execution_count": 5,
   "metadata": {},
   "outputs": [],
   "source": [
    "def save_annotation(segs,an_path):\n",
    "    an = {\n",
    "        \"form\":segs\n",
    "    }\n",
    "    wirte_json_file(an,an_path)"
   ]
  },
  {
   "cell_type": "code",
   "execution_count": 6,
   "metadata": {},
   "outputs": [],
   "source": [
    "TRAIN_SIZE = 797"
   ]
  },
  {
   "cell_type": "code",
   "execution_count": 7,
   "metadata": {},
   "outputs": [
    {
     "name": "stderr",
     "output_type": "stream",
     "text": [
      "   **** Error: /BBox has zero width or height, which is not allowed.\n",
      "               Output may be incorrect.\n",
      "   **** Error: /BBox has zero width or height, which is not allowed.\n",
      "               Output may be incorrect.\n"
     ]
    },
    {
     "name": "stdout",
     "output_type": "stream",
     "text": [
      "40 processados!\n",
      "80 processados!\n"
     ]
    },
    {
     "name": "stderr",
     "output_type": "stream",
     "text": [
      "   **** Error: /BBox has zero width or height, which is not allowed.\n",
      "               Output may be incorrect.\n",
      "   **** Error: /BBox has zero width or height, which is not allowed.\n",
      "               Output may be incorrect.\n"
     ]
    },
    {
     "name": "stdout",
     "output_type": "stream",
     "text": [
      "120 processados!\n"
     ]
    },
    {
     "name": "stderr",
     "output_type": "stream",
     "text": [
      "   **** Error: /BBox has zero width or height, which is not allowed.\n",
      "               Output may be incorrect.\n",
      "   **** Error: /BBox has zero width or height, which is not allowed.\n",
      "               Output may be incorrect.\n"
     ]
    },
    {
     "name": "stdout",
     "output_type": "stream",
     "text": [
      "160 processados!\n"
     ]
    },
    {
     "name": "stderr",
     "output_type": "stream",
     "text": [
      "   **** Error: Executing Do inside a text block, attempting to recover\n",
      "               Output may be incorrect.\n",
      "   **** Error: Executing Do inside a text block, attempting to recover\n",
      "               Output may be incorrect.\n",
      "   **** Error: Executing Do inside a text block, attempting to recover\n",
      "               Output may be incorrect.\n",
      "   **** Error: Executing Do inside a text block, attempting to recover\n",
      "               Output may be incorrect.\n",
      "   **** Error: Executing Do inside a text block, attempting to recover\n",
      "               Output may be incorrect.\n"
     ]
    },
    {
     "name": "stdout",
     "output_type": "stream",
     "text": [
      "200 processados!\n"
     ]
    },
    {
     "name": "stderr",
     "output_type": "stream",
     "text": [
      "   **** Error: Executing Do inside a text block, attempting to recover\n",
      "               Output may be incorrect.\n",
      "   **** Error: Executing Do inside a text block, attempting to recover\n",
      "               Output may be incorrect.\n",
      "   **** Error: Executing Do inside a text block, attempting to recover\n",
      "               Output may be incorrect.\n",
      "   **** Error: Executing Do inside a text block, attempting to recover\n",
      "               Output may be incorrect.\n"
     ]
    },
    {
     "name": "stdout",
     "output_type": "stream",
     "text": [
      "240 processados!\n"
     ]
    },
    {
     "name": "stderr",
     "output_type": "stream",
     "text": [
      "   **** Error: Executing Do inside a text block, attempting to recover\n",
      "               Output may be incorrect.\n",
      "   **** Error: /BBox has zero width or height, which is not allowed.\n",
      "               Output may be incorrect.\n",
      "   **** Error: /BBox has zero width or height, which is not allowed.\n",
      "               Output may be incorrect.\n",
      "   **** Error: /BBox has zero width or height, which is not allowed.\n",
      "               Output may be incorrect.\n"
     ]
    },
    {
     "name": "stdout",
     "output_type": "stream",
     "text": [
      "280 processados!\n"
     ]
    },
    {
     "name": "stderr",
     "output_type": "stream",
     "text": [
      "   **** Error: /BBox has zero width or height, which is not allowed.\n",
      "               Output may be incorrect.\n"
     ]
    },
    {
     "name": "stdout",
     "output_type": "stream",
     "text": [
      "320 processados!\n"
     ]
    },
    {
     "name": "stderr",
     "output_type": "stream",
     "text": [
      "   **** Error: /BBox has zero width or height, which is not allowed.\n",
      "               Output may be incorrect.\n",
      "   **** Error: /BBox has zero width or height, which is not allowed.\n",
      "               Output may be incorrect.\n",
      "   **** Error: /BBox has zero width or height, which is not allowed.\n",
      "               Output may be incorrect.\n"
     ]
    },
    {
     "name": "stdout",
     "output_type": "stream",
     "text": [
      "360 processados!\n",
      "400 processados!\n"
     ]
    },
    {
     "name": "stderr",
     "output_type": "stream",
     "text": [
      "   **** Error: /BBox has zero width or height, which is not allowed.\n",
      "               Output may be incorrect.\n"
     ]
    },
    {
     "name": "stdout",
     "output_type": "stream",
     "text": [
      "440 processados!\n",
      "480 processados!\n",
      "520 processados!\n",
      "560 processados!\n",
      "600 processados!\n"
     ]
    },
    {
     "name": "stderr",
     "output_type": "stream",
     "text": [
      "   **** Error: /BBox has zero width or height, which is not allowed.\n",
      "               Output may be incorrect.\n"
     ]
    },
    {
     "name": "stdout",
     "output_type": "stream",
     "text": [
      "640 processados!\n",
      "680 processados!\n"
     ]
    },
    {
     "name": "stderr",
     "output_type": "stream",
     "text": [
      "   **** Error: /BBox has zero width or height, which is not allowed.\n",
      "               Output may be incorrect.\n"
     ]
    },
    {
     "name": "stdout",
     "output_type": "stream",
     "text": [
      "720 processados!\n",
      "760 processados!\n"
     ]
    },
    {
     "name": "stderr",
     "output_type": "stream",
     "text": [
      "   **** Error: /BBox has zero width or height, which is not allowed.\n",
      "               Output may be incorrect.\n"
     ]
    }
   ],
   "source": [
    "#train\n",
    "base_dir = '../layoutlm_acordao/data/training_data/'\n",
    "anotation_dir = base_dir + 'annotations/'\n",
    "images_dir = base_dir + 'images/'\n",
    "i = 0\n",
    "for ex in dt[:TRAIN_SIZE]:\n",
    "    id = ex['id']\n",
    "    an_path = anotation_dir+f'{id}.json'\n",
    "    img_path = images_dir+f'{id}.png'\n",
    "    pdf_idtm_path = f'./ITD_MINI/{id}/{id}.pdf'\n",
    "    segs = ex['documento']\n",
    "    save_annotation(segs,an_path)\n",
    "    save_img(pdf_idtm_path,img_path)\n",
    "    i+=1\n",
    "    if i % 40 == 0:\n",
    "        print(f'{i} processados!')\n",
    "    \n",
    "    #print(an_path,img_path)\n",
    "    "
   ]
  },
  {
   "cell_type": "code",
   "execution_count": 8,
   "metadata": {},
   "outputs": [
    {
     "name": "stdout",
     "output_type": "stream",
     "text": [
      "40 processados!\n"
     ]
    },
    {
     "name": "stderr",
     "output_type": "stream",
     "text": [
      "   **** Error: /BBox has zero width or height, which is not allowed.\n",
      "               Output may be incorrect.\n"
     ]
    },
    {
     "name": "stdout",
     "output_type": "stream",
     "text": [
      "80 processados!\n",
      "120 processados!\n",
      "160 processados!\n"
     ]
    }
   ],
   "source": [
    "#test\n",
    "base_dir = '../layoutlm_acordao/data/testing_data/'\n",
    "anotation_dir = base_dir + 'annotations/'\n",
    "images_dir = base_dir + 'images/'\n",
    "i = 0\n",
    "for ex in dt[TRAIN_SIZE:]:\n",
    "    id = ex['id']\n",
    "    an_path = anotation_dir+f'{id}.json'\n",
    "    img_path = images_dir+f'{id}.png'\n",
    "    pdf_idtm_path = f'./ITD_MINI/{id}/{id}.pdf'\n",
    "    segs = ex['documento']\n",
    "    save_annotation(segs,an_path)\n",
    "    save_img(pdf_idtm_path,img_path)\n",
    "    i+=1\n",
    "    if i % 40 == 0:\n",
    "        print(f'{i} processados!')\n",
    "    \n",
    "   \n",
    "    "
   ]
  },
  {
   "attachments": {},
   "cell_type": "markdown",
   "metadata": {},
   "source": [
    "ATENÇÃO! É PRECISO COPIAR O ITD_MINI PARA O DIRETÓRIO ../layoutlm_acordao, pois esse projeto rodará em um container, execute a célula abaixo"
   ]
  },
  {
   "cell_type": "code",
   "execution_count": 9,
   "metadata": {},
   "outputs": [],
   "source": [
    "!cp -r ITD_MINI ../layoutlm_acordao"
   ]
  }
 ],
 "metadata": {
  "kernelspec": {
   "display_name": "venv",
   "language": "python",
   "name": "python3"
  },
  "language_info": {
   "codemirror_mode": {
    "name": "ipython",
    "version": 3
   },
   "file_extension": ".py",
   "mimetype": "text/x-python",
   "name": "python",
   "nbconvert_exporter": "python",
   "pygments_lexer": "ipython3",
   "version": "3.8.10"
  },
  "orig_nbformat": 4,
  "vscode": {
   "interpreter": {
    "hash": "b32ddc4246e1f5eb2658859b04f31200bfc8399c2090cfc052083303736e7c59"
   }
  }
 },
 "nbformat": 4,
 "nbformat_minor": 2
}
