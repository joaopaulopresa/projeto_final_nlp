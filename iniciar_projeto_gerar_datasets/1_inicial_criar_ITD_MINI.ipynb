{
 "cells": [
  {
   "attachments": {},
   "cell_type": "markdown",
   "metadata": {},
   "source": [
    "Instruções:\n",
    " * Referência da base de dados: SOUSA, A. Willian; DEL FABRO, Marcos Didonet. Iudicium textum dataset uma base de textos jurıdicos para nlp. In: XXXIV Simpósio Brasileiro de Banco de Dados: Dataset Showcase Workshop, SBBD. 2019. https://www.inf.ufpr.br/didonet/articles/2019_dsw_Iudicium_Textum_Dataset.pdf\n",
    " * Baixe a base de dados ITD no endereço: http://dadosabertos.c3sl.ufpr.br/acordaos/ITD/ITD_raw.tar.gz\n",
    " * Descompacte a base na raíz desse projeto \n",
    " (ATENÇÃO, NÃO É POSSÍVEL EXECUTAR O PROJETO SEM BAIXAR A BASE E DESCOMPACTAR)\n",
    " * Esse passo será executado apenas uma vez para gerar uma versão menor da base de PDFs já que a original tem mais de 20 GB\n",
    " * Após baixar a base ITD e descompactar, execute esse código antes de gerar os datasets.\n",
    " * Uma vez executado esse código a pasta ITD de 20 GB pode ser excluída em seu lugar será usada a pasta criada nesse notebook ITD_MINI "
   ]
  },
  {
   "cell_type": "code",
   "execution_count": 11,
   "metadata": {},
   "outputs": [],
   "source": [
    "import json\n",
    "from os.path import exists\n",
    "import os\n",
    "import sys"
   ]
  },
  {
   "cell_type": "code",
   "execution_count": 13,
   "metadata": {},
   "outputs": [],
   "source": [
    "def open_json(path):\n",
    "    with open(path, 'r') as openfile:\n",
    "        json_object = json.load(openfile)\n",
    "        return json_object\n",
    "\n",
    "def create_folder(path): \n",
    "    if not exists(path):\n",
    "        os.makedirs(path)\n",
    "    return path"
   ]
  },
  {
   "cell_type": "code",
   "execution_count": 14,
   "metadata": {},
   "outputs": [
    {
     "data": {
      "text/plain": [
       "'./ITD_MINI'"
      ]
     },
     "execution_count": 14,
     "metadata": {},
     "output_type": "execute_result"
    }
   ],
   "source": [
    "if not exists('./ITD'):\n",
    "    print('Primeiro você deve baixar a base de PDFs ITD, leia as instruções!')\n",
    "    sys.exit(0)\n",
    "itd_mini_path = f'./ITD_MINI'\n",
    "create_folder(itd_mini_path)"
   ]
  },
  {
   "cell_type": "code",
   "execution_count": 16,
   "metadata": {},
   "outputs": [
    {
     "name": "stdout",
     "output_type": "stream",
     "text": [
      "ITD_MINI Criado com sucesso, agora você pode excluir o ITD!\n"
     ]
    }
   ],
   "source": [
    "ids_itd_m = open_json('ids_idt_mini.json')\n",
    "for ex in ids_itd_m:\n",
    "    id = ex['id']\n",
    "    pdf_path = f'./ITD/{id}/{id}.pdf'\n",
    "    pdf_idtm_folder_path = f'./ITD_MINI/{id}'\n",
    "    create_folder(pdf_idtm_folder_path)\n",
    "    pdf_idtm_path = f'./ITD_MINI/{id}/{id}.pdf'\n",
    "    !cp $pdf_path $pdf_idtm_path\n",
    "print('ITD_MINI Criado com sucesso, agora você pode excluir o ITD!')"
   ]
  }
 ],
 "metadata": {
  "kernelspec": {
   "display_name": "venv",
   "language": "python",
   "name": "python3"
  },
  "language_info": {
   "codemirror_mode": {
    "name": "ipython",
    "version": 3
   },
   "file_extension": ".py",
   "mimetype": "text/x-python",
   "name": "python",
   "nbconvert_exporter": "python",
   "pygments_lexer": "ipython3",
   "version": "3.8.10"
  },
  "orig_nbformat": 4,
  "vscode": {
   "interpreter": {
    "hash": "b32ddc4246e1f5eb2658859b04f31200bfc8399c2090cfc052083303736e7c59"
   }
  }
 },
 "nbformat": 4,
 "nbformat_minor": 2
}
